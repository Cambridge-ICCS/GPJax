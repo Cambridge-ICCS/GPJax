{
 "cells": [
  {
   "cell_type": "markdown",
   "id": "21df9571",
   "metadata": {},
   "source": [
    "# Guide to Kernels\n",
    "\n",
    "In this notebook we'll expose the kernels available in GPJax and show how a custom polar kernel can be implemented.\n",
    "\n",
    "import jax.numpy as jnp\n",
    "import jax.random as jr\n",
    "import matplotlib.pyplot as plt\n",
    "from jax import jit\n",
    "from optax import adam"
   ]
  },
  {
   "cell_type": "code",
   "execution_count": null,
   "id": "d40f00dd",
   "metadata": {},
   "outputs": [],
   "source": [
    "import gpjax as gpx\n",
    "\n",
    "key = jr.PRNGKey(123)"
   ]
  },
  {
   "cell_type": "markdown",
   "id": "fcf22154",
   "metadata": {},
   "source": [
    "## Supported Kernels\n",
    "\n",
    "The following kernels are supported in GPJax\n",
    "* Matern - first, second and third order\n",
    "* RBF or Squared Exponential\n",
    "* Polynomial\n",
    "\n",
    "The syntax for using these kernels is consistent across objects. However, the kernel's type influences the type of sample paths that can be drawn. To visualise this, we plot a set of 10 function draws per kernel in the following cell."
   ]
  },
  {
   "cell_type": "code",
   "execution_count": null,
   "id": "7a2ce3ab",
   "metadata": {},
   "outputs": [],
   "source": [
    "kernels = [\n",
    "    gpx.Matern12(),\n",
    "    gpx.Matern32(),\n",
    "    gpx.Matern52(),\n",
    "    gpx.RBF(),\n",
    "    gpx.Polynomial(degree=1),\n",
    "    gpx.Polynomial(degree=2),\n",
    "]\n",
    "fig, axes = plt.subplots(ncols=3, nrows=2, figsize=(20, 10))\n",
    "\n",
    "x = jnp.linspace(-3.0, 3.0, num=200).reshape(-1, 1)\n",
    "\n",
    "\n",
    "for k, ax in zip(kernels, axes.ravel()):\n",
    "    prior = gpx.Prior(kernel=k)\n",
    "    params, _, _ = gpx.initialise(prior)\n",
    "    rv = prior.random_variable(x, params)\n",
    "    y = rv.sample(sample_shape=10, seed=key)\n",
    "\n",
    "    ax.plot(x, y.T, alpha=0.5)\n",
    "    ax.set_title(k.name)"
   ]
  },
  {
   "cell_type": "markdown",
   "id": "45b9c7f1",
   "metadata": {},
   "source": [
    "### Active dimensions\n",
    "\n",
    "By default, kernels will operate over every dimension of the supplied inputs. For some use cases it is desirable to have the kernel operate over specific dimensions of the input data. Every kernel has an `active_dims` attribute that specificies the index values that the kernel should evaluate.\n",
    "\n",
    "To see this, consider the following 5-dimensional dataset for which we would like our RBF kernel to act on the first, second and fourth dimensions."
   ]
  },
  {
   "cell_type": "code",
   "execution_count": null,
   "id": "8711b301",
   "metadata": {},
   "outputs": [],
   "source": [
    "slice_kernel = gpx.RBF(active_dims=[0, 1, 3])"
   ]
  },
  {
   "cell_type": "markdown",
   "id": "86b581de",
   "metadata": {},
   "source": [
    "This will implicitly make the kernel have a single lengthscale per input dimensions. Our kernel is now an ARD kernel:"
   ]
  },
  {
   "cell_type": "code",
   "execution_count": null,
   "id": "96502648",
   "metadata": {},
   "outputs": [],
   "source": [
    "print(f\"ARD: {slice_kernel.ard}\")\n",
    "print(f\"Lengthscales: {slice_kernel.params['lengthscale']}\")"
   ]
  },
  {
   "cell_type": "markdown",
   "id": "601532c3",
   "metadata": {},
   "source": [
    "We'll now simulate some data and evaluate the kernel on the previously selected input dimensions"
   ]
  },
  {
   "cell_type": "code",
   "execution_count": null,
   "id": "0e9fb1a4",
   "metadata": {},
   "outputs": [],
   "source": [
    "x_matrix = jr.normal(key, shape=(50, 5))\n",
    "K = gpx.kernels.gram(slice_kernel, x_matrix, slice_kernel.params)\n",
    "print(K.shape)"
   ]
  },
  {
   "cell_type": "markdown",
   "id": "db1461ad",
   "metadata": {},
   "source": [
    "## Combination of Kernels\n",
    "\n",
    "The product or sum of two positive define matrices yields a positive definite matrix. Consequently, summing or multiplying sets of kernels is a valid operation and can yield rich kernel functions. In GPJax, sums of kernels can be created by passing a list of kernels into the `SumKernel` object in the following way."
   ]
  },
  {
   "cell_type": "code",
   "execution_count": null,
   "id": "b80be62c",
   "metadata": {},
   "outputs": [],
   "source": [
    "k1 = gpx.RBF()\n",
    "k1._params = {\"lengthscale\": jnp.array(1.0), \"variance\": jnp.array(10.0)}\n",
    "k2 = gpx.Polynomial()\n",
    "sum_k = gpx.SumKernel(kernel_set=[k1, k2])\n",
    "\n",
    "fig, ax = plt.subplots(ncols=3, figsize=(20, 5))\n",
    "im0 = ax[0].matshow(gpx.kernels.gram(k1, x, k1.params))\n",
    "im1 = ax[1].matshow(gpx.kernels.gram(k2, x, k2.params))\n",
    "im2 = ax[2].matshow(gpx.kernels.gram(sum_k, x, sum_k.params))\n",
    "\n",
    "\n",
    "fig.colorbar(im0, ax=ax[0])\n",
    "fig.colorbar(im1, ax=ax[1])\n",
    "fig.colorbar(im2, ax=ax[2])"
   ]
  },
  {
   "cell_type": "markdown",
   "id": "1bc3c41c",
   "metadata": {},
   "source": [
    "Similarily, products of kernels can be created through the `ProductKernel` object."
   ]
  },
  {
   "cell_type": "code",
   "execution_count": null,
   "id": "18263840",
   "metadata": {},
   "outputs": [],
   "source": [
    "k3 = gpx.Matern32()\n",
    "prod_k = gpx.ProductKernel(kernel_set=[k1, k2, k3])\n",
    "fig, ax = plt.subplots(ncols=4, figsize=(20, 5))\n",
    "im0 = ax[0].matshow(gpx.kernels.gram(k1, x, k1.params))\n",
    "im1 = ax[1].matshow(gpx.kernels.gram(k2, x, k2.params))\n",
    "im2 = ax[2].matshow(gpx.kernels.gram(k3, x, k3.params))\n",
    "im3 = ax[3].matshow(gpx.kernels.gram(prod_k, x, prod_k.params))\n",
    "\n",
    "\n",
    "fig.colorbar(im0, ax=ax[0])\n",
    "fig.colorbar(im1, ax=ax[1])\n",
    "fig.colorbar(im2, ax=ax[2])\n",
    "fig.colorbar(im3, ax=ax[3])"
   ]
  },
  {
   "cell_type": "markdown",
   "id": "d0dff966",
   "metadata": {},
   "source": [
    "## Custom Kernel\n",
    "\n",
    "If one wishes to implement their own kernel then the process is straightforward. There are two steps to achieving this\n",
    "1. List the kernel's parameters\n",
    "2. Define the kernel's pairwise operation\n",
    "\n",
    "We'll demonstrate this process now for a ciruclar kernel. This example is an adaption of the excellent guide given in the PYMC3 documentation and we would encourage the curious reader to visit their notebook which can be found [here](https://docs.pymc.io/pymc-examples/examples/gaussian_processes/GP-Circular.html).\n",
    "\n",
    "### Circular Kernel\n",
    "\n",
    "When the underlying space is polar, typical Euclidean kernels such as Matern kernels will be insufficient as the boundary. Circular kernels do not exhibit this behaviour and instead _wrap_ around the boundary points to create a smooth function. Such a kernel was given in [Padonou & Roustant (2015)](https://hal.inria.fr/hal-01119942v1) and for two angles $\\theta, \\theta'$ can be written as\n",
    "$$W_c(\\theta, \\theta') = \\left\\lvert \\left(1 + \\tau \\frac{d(\\theta, \\theta')}{c} \\right) \\left(1 - \\frac{d(\\theta, \\theta')}{c} \\right)^{\\tau} \\right\\rvert \\quad \\tau \\geq 4 \\tag{1}.$$\n",
    "\n",
    "Here we have the parameter $\\tau$ which is analogous to a lengthscale for Euclidean stationary kernels as it controls the correlation between pairs of observations. Further, the distance metric $d$ here is an angular distance\n",
    "$$d(\\theta, \\theta') = \\lvert (\\theta-\\theta'+c) \\operatorname{mod} 2c - c \\rvert.$$\n",
    "\n",
    "To implement this, one must write the following class"
   ]
  },
  {
   "cell_type": "code",
   "execution_count": null,
   "id": "c7210a5a",
   "metadata": {},
   "outputs": [],
   "source": [
    "from chex import dataclass\n",
    "\n",
    "\n",
    "def angular_distance(x, y, c):\n",
    "    return jnp.abs((x - y + c) % (c * 2) - c)\n",
    "\n",
    "\n",
    "@dataclass(repr=False)\n",
    "class Polar(gpx.kernels.Kernel):\n",
    "    period: float = 2 * jnp.pi\n",
    "\n",
    "    def __post_init__(self):\n",
    "        self.c = self.period / 2.0  # in [0, \\pi]\n",
    "\n",
    "    def __call__(self, x: gpx.types.Array, y: gpx.types.Array, params: dict) -> gpx.types.Array:\n",
    "        tau = params[\"tau\"]\n",
    "        t = angular_distance(x, y, self.c)\n",
    "        K = (1 + tau * t / self.c) * jnp.clip(1 - t / self.c, 0, jnp.inf) ** tau\n",
    "        return K.squeeze()\n",
    "\n",
    "    @property\n",
    "    def params(self) -> dict:\n",
    "        return {\"tau\": jnp.array([4.0])}"
   ]
  },
  {
   "cell_type": "markdown",
   "id": "0c71d588",
   "metadata": {},
   "source": [
    "We can unpack this now to make better sense of it. In the kernel's `__init__` function we are simply specifying the length of a single period. Here, the underlying domain is a circle, so one period is simply $2\\pi$. Next we define the kernel's `__call__` function which is a direct implementation of Equation 1. Finally, we define the Kernel's parameter property which contains just one value $\\tau$. Now $\\tau$ is defined to be greater than or equal to 4, so we initialise it at 4.\n",
    "\n",
    "\n",
    "### Custom Parameter Bijection\n",
    "\n",
    "The constraint on $\\tau$ will make optimisation challenging and it'd be much more helpful if we could transform $\\tau$ to be on the full real line when we perform gradient descent on it. Fortunately, the `add_parameter` function in GPJax means we must simply define the parameter's name and corresponding bijection and everything else will be taken care of. Under the hood, a master configuration object is being updated when we call this function to register this parameter and its corresponding transform.\n",
    "\n",
    "import tensorflow_probability.substrates.jax.bijectors as tfb"
   ]
  },
  {
   "cell_type": "code",
   "execution_count": null,
   "id": "1a27064d",
   "metadata": {},
   "outputs": [],
   "source": [
    "from gpjax.config import add_parameter\n",
    "\n",
    "add_parameter(\"tau\", tfb.Softplus(low=jnp.array(4.0)))"
   ]
  },
  {
   "cell_type": "markdown",
   "id": "046b22bc",
   "metadata": {},
   "source": [
    "### Using our Polar Kernel\n",
    "\n",
    "With a custom kernel now defined, we can go ahead and fit our new kernel. To do this, we randomly simulate a sequence of points on a circle and fit our GP to this using the above defined circular kernel. For further details on this process, it's advised to see the [Regression notebook](https://gpjax.readthedocs.io/en/latest/nbs/regression.html)."
   ]
  },
  {
   "cell_type": "code",
   "execution_count": null,
   "id": "54d3754f",
   "metadata": {},
   "outputs": [],
   "source": [
    "# Simulate data\n",
    "angles = jnp.linspace(0, 2 * jnp.pi, num=200).reshape(-1, 1)\n",
    "n = 20\n",
    "noise = 0.2\n",
    "\n",
    "X = jnp.sort(jr.uniform(key, minval=0.0, maxval=jnp.pi * 2, shape=(n, 1)), axis=0)\n",
    "y = 4 + jnp.cos(2 * X) + jr.normal(key, shape=X.shape) * noise\n",
    "training = gpx.Dataset(X=X, y=y)\n",
    "\n",
    "# Define Polar Gaussian process\n",
    "PKern = Polar()\n",
    "circlular_posterior = gpx.Prior(kernel=PKern) * gpx.Gaussian(num_datapoints=n)\n",
    "\n",
    "# Initialise parameters and corresponding transformations\n",
    "params, constrainer, unconstrainer = gpx.initialise(circlular_posterior)\n",
    "\n",
    "# Optimise GP's marginal log-likelihood using Adam\n",
    "mll = jit(circlular_posterior.marginal_log_likelihood(training, constrainer, negative=True))\n",
    "learned_params = gpx.optax_fit(mll, params, adam(learning_rate=0.05), n_iters=1000)\n",
    "\n",
    "# Untransform learned parameters\n",
    "final_params = gpx.transform(learned_params, constrainer)"
   ]
  },
  {
   "cell_type": "markdown",
   "id": "165e3e15",
   "metadata": {},
   "source": [
    "### Prediction\n",
    "\n",
    "We'll now query the GP's predictive posterior distribution at a linearly spaced set of test points and plot the results."
   ]
  },
  {
   "cell_type": "code",
   "execution_count": null,
   "id": "67392fd4",
   "metadata": {},
   "outputs": [],
   "source": [
    "mu = circlular_posterior.mean(training, final_params)(angles).squeeze()\n",
    "one_sigma = jnp.sqrt(jnp.diag(circlular_posterior.variance(training, final_params)(angles)))"
   ]
  },
  {
   "cell_type": "code",
   "execution_count": null,
   "id": "5862d511",
   "metadata": {},
   "outputs": [],
   "source": [
    "fig = plt.figure(figsize=(10, 8))\n",
    "gridspec = fig.add_gridspec(1, 1)\n",
    "ax = plt.subplot(gridspec[0], polar=True)\n",
    "\n",
    "ax.grid(color=\"#888888\")  # Color the grid\n",
    "ax.spines[\"polar\"].set_visible(False)  # Show or hide the plot spine\n",
    "ax.fill_between(\n",
    "    angles.squeeze(),\n",
    "    mu - one_sigma,\n",
    "    mu + one_sigma,\n",
    "    alpha=0.3,\n",
    "    label=r\"1 Posterior s.d.\",\n",
    "    color=\"#B5121B\",\n",
    ")\n",
    "ax.fill_between(\n",
    "    angles.squeeze(),\n",
    "    mu - 3 * one_sigma,\n",
    "    mu + 3 * one_sigma,\n",
    "    alpha=0.15,\n",
    "    label=r\"3 Posterior s.d.\",\n",
    "    color=\"#B5121B\",\n",
    ")\n",
    "ax.plot(angles, mu, label=\"Posterior mean\")\n",
    "ax.scatter(training.X, training.y, alpha=1, label=\"Observations\")\n",
    "ax.legend()"
   ]
  },
  {
   "cell_type": "markdown",
   "id": "6e19e983",
   "metadata": {},
   "source": [
    "## System Configuration"
   ]
  },
  {
   "cell_type": "code",
   "execution_count": null,
   "id": "f83787be",
   "metadata": {},
   "outputs": [],
   "source": [
    "%reload_ext watermark\n",
    "%watermark -n -u -v -iv -w -a 'Thomas Pinder'"
   ]
  }
 ],
 "metadata": {
  "kernelspec": {
   "display_name": "Python 3.9.7 ('gpjax')",
   "language": "python",
   "name": "python3"
  }
 },
 "nbformat": 4,
 "nbformat_minor": 5
}
