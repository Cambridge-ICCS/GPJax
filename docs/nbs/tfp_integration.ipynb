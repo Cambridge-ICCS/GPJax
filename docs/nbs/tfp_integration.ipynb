{
 "cells": [
  {
   "cell_type": "markdown",
   "id": "283d9ee4",
   "metadata": {},
   "source": [
    "# TensorFlow Probability Integration\n",
    "\n",
    "from pprint import PrettyPrinter\n",
    "\n",
    "import jax\n",
    "import jax.numpy as jnp\n",
    "import jax.random as jr\n",
    "import matplotlib.pyplot as plt"
   ]
  },
  {
   "cell_type": "code",
   "execution_count": null,
   "id": "85bb68d4",
   "metadata": {},
   "outputs": [],
   "source": [
    "import gpjax as gpx\n",
    "from gpjax.utils import dict_array_coercion\n",
    "\n",
    "pp = PrettyPrinter(indent=4)\n",
    "\n",
    "key = jr.PRNGKey(123)"
   ]
  },
  {
   "cell_type": "markdown",
   "id": "5cec1754",
   "metadata": {},
   "source": [
    "## Simulate some data\n",
    "\n",
    "In this tutorial we'll be trying to model the normalised sinc function\n",
    "$$f(x) = \\frac{\\sin(\\pi x)}{\\pi x}$$\n",
    "for $x\\in\\mathbb{R}$ where $x\\neq 0 $."
   ]
  },
  {
   "cell_type": "code",
   "execution_count": null,
   "id": "87992445",
   "metadata": {},
   "outputs": [],
   "source": [
    "N = 100\n",
    "noise = 0.1\n",
    "\n",
    "x = jnp.sort(jr.uniform(key, minval=-5.0, maxval=5.0, shape=(N, 1)), axis=0)\n",
    "f = lambda x: jnp.sin(jnp.pi * x) / (jnp.pi * x)\n",
    "y = f(x) + jr.normal(key, shape=x.shape) * noise\n",
    "\n",
    "fig, ax = plt.subplots(figsize=(12, 6))\n",
    "ax.plot(x, f(x), label=\"Latent fn\")\n",
    "ax.plot(x, y, \"o\", label=\"Observations\", alpha=0.6)\n",
    "ax.legend(loc=\"best\")"
   ]
  },
  {
   "cell_type": "markdown",
   "id": "e6aae7f4",
   "metadata": {},
   "source": [
    "## Define GPJax objects\n",
    "\n",
    "We'll now wrap this pair of observed data arrays up into a `Dataset` object and define a 'GP' posterior object."
   ]
  },
  {
   "cell_type": "code",
   "execution_count": null,
   "id": "ad891c23",
   "metadata": {},
   "outputs": [],
   "source": [
    "training = gpx.Dataset(X=x, y=y)\n",
    "posterior = gpx.Prior(kernel=gpx.RBF()) * gpx.Gaussian(num_datapoints=training.n)"
   ]
  },
  {
   "cell_type": "markdown",
   "id": "7b0069c3",
   "metadata": {},
   "source": [
    "## Initialise parameters\n",
    "\n",
    "All parameters in this model are constrained to be positive. Our MCMC sampler will therefore sample on the parameters' unconstrained space and the samples will then be back transformed onto the original positive real line. GPJax's `initialise` function makes this straightforward."
   ]
  },
  {
   "cell_type": "code",
   "execution_count": null,
   "id": "4810752e",
   "metadata": {},
   "outputs": [],
   "source": [
    "params, constrainers, unconstrainers = gpx.initialise(posterior)"
   ]
  },
  {
   "cell_type": "markdown",
   "id": "ffa60e7d",
   "metadata": {},
   "source": [
    "#### Parameter type\n",
    "\n",
    "To use the MCMC samplers supplied with TensorFlow probability we must supply our parameters as an array. This is at odds with GPJax where parameters are stored in dictionaries. We therefore use the `dict_array_coercion` function that returns two functions: one that maps from an array to a dictionary, and a second that maps back to an array given a dictionary. These functions are order preserving."
   ]
  },
  {
   "cell_type": "code",
   "execution_count": null,
   "id": "9034bb8c",
   "metadata": {},
   "outputs": [],
   "source": [
    "dict_to_array, array_to_dict = dict_array_coercion(params)"
   ]
  },
  {
   "cell_type": "code",
   "execution_count": null,
   "id": "33f0db96",
   "metadata": {},
   "outputs": [],
   "source": [
    "parray = dict_to_array(params)\n",
    "print(parray)"
   ]
  },
  {
   "cell_type": "code",
   "execution_count": null,
   "id": "1f94d50c",
   "metadata": {},
   "outputs": [],
   "source": [
    "array_to_dict(parray) == params"
   ]
  },
  {
   "cell_type": "markdown",
   "id": "9835a025",
   "metadata": {},
   "source": [
    "### Specifying priors\n",
    "\n",
    "We'll now place Gamma priors down on our parameters. In GPJax, this is done using TensorFlow Probability's `Distributions` module."
   ]
  },
  {
   "cell_type": "code",
   "execution_count": null,
   "id": "9d970dfd",
   "metadata": {},
   "outputs": [],
   "source": [
    "import tensorflow_probability.substrates.jax as tfp\n",
    "\n",
    "tfd = tfp.distributions\n",
    "\n",
    "priors = gpx.parameters.copy_dict_structure(params)\n",
    "priors[\"kernel\"][\"lengthscale\"] = tfd.Gamma(concentration=jnp.array(1.0), rate=jnp.array(1.0))\n",
    "priors[\"kernel\"][\"variance\"] = tfd.Gamma(concentration=jnp.array(1.0), rate=jnp.array(1.0))\n",
    "priors[\"likelihood\"][\"obs_noise\"] = tfd.Gamma(concentration=jnp.array(1.0), rate=jnp.array(1.0))"
   ]
  },
  {
   "cell_type": "markdown",
   "id": "9ba89b4a",
   "metadata": {},
   "source": [
    "### Defining our target function\n",
    "\n",
    "We'll now define the target distribution that our MCMC sampler will sample from. For our GP, this is the marginal log-likelihood that we will specify in the following way."
   ]
  },
  {
   "cell_type": "code",
   "execution_count": null,
   "id": "d74ec9d8",
   "metadata": {},
   "outputs": [],
   "source": [
    "mll = posterior.marginal_log_likelihood(training, constrainers, priors=priors, negative=False)\n",
    "mll(params)"
   ]
  },
  {
   "cell_type": "markdown",
   "id": "7478d82f",
   "metadata": {},
   "source": [
    "As our model parameters are now an array, not a dictionary, we must define a small function that maps the array back to a dictionary and then evaluates the marginal log-likelihood. Using the second return of `dict_array_coercion` this is easy to do as follows."
   ]
  },
  {
   "cell_type": "code",
   "execution_count": null,
   "id": "2e511ae9",
   "metadata": {},
   "outputs": [],
   "source": [
    "def build_log_pi(target, mapper_fn):\n",
    "    def array_mll(parameter_array):\n",
    "        parameter_dict = mapper_fn([jnp.array(i) for i in parameter_array])\n",
    "        return target(parameter_dict)\n",
    "\n",
    "    return array_mll\n",
    "\n",
    "\n",
    "mll_array_form = build_log_pi(mll, array_to_dict)"
   ]
  },
  {
   "cell_type": "markdown",
   "id": "7867af39",
   "metadata": {},
   "source": [
    "## Sample\n",
    "\n",
    "We now have all the necessary machinery in place to sample from our target distribution. We'll use TensorFlow's Hamiltonian Monte-Carlo sampler equipped with the No U-Turn Sampler kernel. We'll draw 2500 samples from our target distribution for illustrative purposes. In practice, you may wish to sample more though."
   ]
  },
  {
   "cell_type": "code",
   "execution_count": null,
   "id": "0218fa7b",
   "metadata": {},
   "outputs": [],
   "source": [
    "n_samples = 2500\n",
    "\n",
    "\n",
    "def run_chain(key, state):\n",
    "    kernel = tfp.mcmc.NoUTurnSampler(mll_array_form, 1e-1)\n",
    "    return tfp.mcmc.sample_chain(\n",
    "        n_samples,\n",
    "        current_state=state,\n",
    "        kernel=kernel,\n",
    "        trace_fn=lambda _, results: results.target_log_prob,\n",
    "        seed=key,\n",
    "    )"
   ]
  },
  {
   "cell_type": "markdown",
   "id": "70ac0497",
   "metadata": {},
   "source": [
    "Everything is pure Jax, so we are free to JIT compile our sampling function and go."
   ]
  },
  {
   "cell_type": "code",
   "execution_count": null,
   "id": "34a4cb4f",
   "metadata": {},
   "outputs": [],
   "source": [
    "states, log_probs = jax.jit(run_chain)(key, jnp.array(dict_to_array(params)))"
   ]
  },
  {
   "cell_type": "markdown",
   "id": "88bd8d49",
   "metadata": {},
   "source": [
    "## Inspecting samples\n",
    "\n",
    "We'll now assess the quality of our chains. We'll discard the first 500 samples as the sampler may not have yet reached the stationary distribution. We'll also thin the chains by keeping every third sample. This reduces the autocorrelation present in the samples."
   ]
  },
  {
   "cell_type": "code",
   "execution_count": null,
   "id": "b09a6afc",
   "metadata": {},
   "outputs": [],
   "source": [
    "burn_in = 500\n",
    "thin_factor = 3\n",
    "n_params = states.shape[1]\n",
    "\n",
    "samples = [states[burn_in:, i, :][::thin_factor] for i in range(n_params)]\n",
    "sample_dict = array_to_dict(samples)\n",
    "constrained_samples = gpx.transform(sample_dict, constrainers)\n",
    "constrained_sample_list = dict_to_array(constrained_samples)"
   ]
  },
  {
   "cell_type": "markdown",
   "id": "62ed2ea0",
   "metadata": {},
   "source": [
    "We'll now plot our samples"
   ]
  },
  {
   "cell_type": "code",
   "execution_count": null,
   "id": "7001ce18",
   "metadata": {},
   "outputs": [],
   "source": [
    "fig, axes = plt.subplots(figsize=(20, 10), ncols=n_params, nrows=2)\n",
    "titles = [\"Lengthscale\", \"Kernel Variance\", \"Obs. Noise\"]\n",
    "\n",
    "for i in range(n_params):\n",
    "    axes[0, i].plot(samples[i], alpha=0.5, color=\"tab:orange\")\n",
    "    axes[1, i].plot(constrained_sample_list[i], alpha=0.5, color=\"tab:blue\")\n",
    "    axes[0, i].axhline(y=jnp.mean(samples[i]), color=\"tab:orange\")\n",
    "    axes[1, i].axhline(y=jnp.mean(constrained_sample_list[i]), color=\"tab:blue\")\n",
    "    axes[0, i].set_title(titles[i])\n",
    "    axes[1, i].set_title(titles[i])\n",
    "\n",
    "plt.tight_layout()"
   ]
  },
  {
   "cell_type": "markdown",
   "id": "7aa45054",
   "metadata": {},
   "source": [
    "## Making predictions\n",
    "\n",
    "We'll now use the samples for prediction. For now, we'll just use the expected parameter value for prediction but you may wish to draw a few samples from the GP posterior for each sample collected during the MCMC sampling phase."
   ]
  },
  {
   "cell_type": "code",
   "execution_count": null,
   "id": "ee6df47c",
   "metadata": {},
   "outputs": [],
   "source": [
    "xtest = jnp.linspace(-5.2, 5.2, 500).reshape(-1, 1)\n",
    "learned_params = array_to_dict([jnp.mean(i) for i in constrained_sample_list])\n",
    "\n",
    "mu = posterior.mean(training, learned_params)(xtest)\n",
    "sigma = posterior.variance(training, learned_params)(xtest)\n",
    "one_stddev = jnp.sqrt(jnp.diag(sigma))"
   ]
  },
  {
   "cell_type": "markdown",
   "id": "582d2693",
   "metadata": {},
   "source": [
    "We'll now plot the learned posterior predictive distribution evaluated at the above defined test points."
   ]
  },
  {
   "cell_type": "code",
   "execution_count": null,
   "id": "1d4c99ab",
   "metadata": {},
   "outputs": [],
   "source": [
    "fig, ax = plt.subplots(figsize=(12, 5))\n",
    "ax.plot(x, y, \"o\", label=\"Obs\", color=\"tab:red\")\n",
    "ax.plot(xtest, mu, label=\"pred\", color=\"tab:blue\")\n",
    "ax.fill_between(\n",
    "    xtest.squeeze(),\n",
    "    mu.squeeze() - one_stddev,\n",
    "    mu.squeeze() + one_stddev,\n",
    "    alpha=0.2,\n",
    "    color=\"tab:blue\",\n",
    ")\n",
    "ax.plot(xtest, mu.squeeze() - one_stddev, color=\"tab:blue\", linestyle=\"--\", linewidth=1)\n",
    "ax.plot(xtest, mu.squeeze() + one_stddev, color=\"tab:blue\", linestyle=\"--\", linewidth=1)\n",
    "\n",
    "ax.legend()"
   ]
  },
  {
   "cell_type": "markdown",
   "id": "57ee4d48",
   "metadata": {},
   "source": [
    "Things look good, so this concludes our tutorial on interfacing TensorFlow Probability with GPJax. There are a large number of samples present within TensorFlow probability and the workflow demonstrated here only just scratches the surface regarding the inference that is possible with TensorFlow probability."
   ]
  },
  {
   "cell_type": "markdown",
   "id": "d504743c",
   "metadata": {},
   "source": [
    "## System Configuration"
   ]
  },
  {
   "cell_type": "code",
   "execution_count": null,
   "id": "02313f95",
   "metadata": {},
   "outputs": [],
   "source": [
    "%load_ext watermark\n",
    "%watermark -n -u -v -iv -w -a \"Thomas Pinder\""
   ]
  }
 ],
 "metadata": {
  "kernelspec": {
   "display_name": "Python 3.9.7 64-bit ('gpjax': conda)",
   "language": "python",
   "name": "python3"
  }
 },
 "nbformat": 4,
 "nbformat_minor": 5
}
