{
 "cells": [
  {
   "cell_type": "code",
   "execution_count": 1,
   "id": "647f89a2",
   "metadata": {},
   "outputs": [],
   "source": [
    "%%bash\n",
    "pip install poetry\n",
    "cd GPJax/\n",
    "poetry install --with docs\n",
    "# cd to where the relevant example scripts are\n",
    "cd ./docs/examples\n",
    "import logging\n",
    "logging.getLogger('matplotlib').setLevel(level=logging.CRITICAL)"
   ]
  }
 ],
 "metadata": {
  "kernelspec": {
   "display_name": "Python 3 (ipykernel)",
   "language": "python",
   "name": "python3"
  },
  "language_info": {
   "codemirror_mode": {
    "name": "ipython",
    "version": 3
   },
   "file_extension": ".py",
   "mimetype": "text/x-python",
   "name": "python",
   "nbconvert_exporter": "python",
   "pygments_lexer": "ipython3",
   "version": "3.8.10"
  }
 },
 "nbformat": 4,
 "nbformat_minor": 5
}
