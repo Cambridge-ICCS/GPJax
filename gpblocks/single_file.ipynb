{
 "cells": [
  {
   "cell_type": "code",
   "execution_count": 79,
   "metadata": {},
   "outputs": [],
   "source": [
    "import jax\n",
    "import jax.numpy as jnp\n",
    "import jax.scipy as jsp\n",
    "import jax.random as jr\n",
    "import jax.numpy.linalg as jnl\n",
    "import matplotlib.pyplot as plt\n",
    "from jax import grad, vmap\n",
    "from jax.config import config\n",
    "from multipledispatch import dispatch\n",
    "from flax import nn\n",
    "\n",
    "key = jsr.PRNGKey(123)"
   ]
  },
  {
   "cell_type": "markdown",
   "metadata": {},
   "source": [
    "Aim: create a GP regression class in Jax\n",
    "\n",
    "# Simulate data"
   ]
  },
  {
   "cell_type": "code",
   "execution_count": 80,
   "metadata": {},
   "outputs": [
    {
     "data": {
      "text/plain": [
       "<matplotlib.legend.Legend at 0x7f460c3ef9a0>"
      ]
     },
     "execution_count": 80,
     "metadata": {},
     "output_type": "execute_result"
    },
    {
     "data": {
      "image/png": "[encoded data removed]",
      "text/plain": [
       "<Figure size 432x288 with 1 Axes>"
      ]
     },
     "metadata": {
      "needs_background": "light"
     },
     "output_type": "display_data"
    }
   ],
   "source": [
    "n = 50\n",
    "x = jr.uniform(key, shape=(n, ), minval=-3., maxval=3.).sort()\n",
    "signal = jnp.sin(x)\n",
    "noise = jr.normal(key, signal.shape)*0.1\n",
    "y = signal+noise\n",
    "\n",
    "plt.plot(x, signal, label='Latent function')\n",
    "plt.plot(x, y, 'o', label='Observations')\n",
    "plt.legend(loc='best')"
   ]
  },
  {
   "cell_type": "markdown",
   "metadata": {},
   "source": [
    "# Define Zero-Mean"
   ]
  },
  {
   "cell_type": "code",
   "execution_count": 81,
   "metadata": {},
   "outputs": [],
   "source": [
    "def zero(x):\n",
    "    return jnp.zeros_like(x)"
   ]
  },
  {
   "cell_type": "markdown",
   "metadata": {},
   "source": [
    "# Define kernel"
   ]
  },
  {
   "cell_type": "code",
   "execution_count": 82,
   "metadata": {},
   "outputs": [],
   "source": [
    "def gram(kernel, xs):\n",
    "    return vmap(lambda x: vmap(lambda y: kernel(x, y))(xs))(xs)\n",
    "\n",
    "\n",
    "# TODO: Only works for 1-dimensional inputs right now\n",
    "def rbf(lengthscale, variance):\n",
    "    def kernel(x, y):\n",
    "        tau = jnp.square(x-y)\n",
    "        return jnp.square(variance)*jnp.exp(-tau/(2*jnp.square(lengthscale)))\n",
    "    return kernel"
   ]
  },
  {
   "cell_type": "markdown",
   "metadata": {},
   "source": [
    "## Test kernel"
   ]
  },
  {
   "cell_type": "code",
   "execution_count": 83,
   "metadata": {},
   "outputs": [
    {
     "data": {
      "text/plain": [
       "<matplotlib.colorbar.Colorbar at 0x7f460c2afac0>"
      ]
     },
     "execution_count": 83,
     "metadata": {},
     "output_type": "execute_result"
    },
    {
     "data": {
      "image/png": "[encoded data removed]",
      "text/plain": [
       "<Figure size 288x288 with 2 Axes>"
      ]
     },
     "metadata": {
      "needs_background": "light"
     },
     "output_type": "display_data"
    }
   ],
   "source": [
    "kfunc = rbf(1.0, 1.0)\n",
    "K = gram(kfunc, x)\n",
    "plt.matshow(K)\n",
    "plt.colorbar()"
   ]
  },
  {
   "cell_type": "markdown",
   "metadata": {},
   "source": [
    "### Check Gram matrix is PSD"
   ]
  },
  {
   "cell_type": "code",
   "execution_count": 84,
   "metadata": {},
   "outputs": [
    {
     "data": {
      "text/plain": [
       "DeviceArray(False, dtype=bool)"
      ]
     },
     "execution_count": 84,
     "metadata": {},
     "output_type": "execute_result"
    }
   ],
   "source": [
    "jnp.all(jnl.eigvals(K)>0)"
   ]
  },
  {
   "cell_type": "code",
   "execution_count": 85,
   "metadata": {},
   "outputs": [],
   "source": [
    "def jitter_matrix(n: int, jitter_amount:float = 1e-6):\n",
    "    return jnp.eye(n)*jitter_amount\n",
    "\n",
    "jitter_mat = jitter_matrix(n, 1e-6)\n",
    "Kstable = K + jitter_mat"
   ]
  },
  {
   "cell_type": "code",
   "execution_count": 86,
   "metadata": {},
   "outputs": [
    {
     "data": {
      "text/plain": [
       "DeviceArray(True, dtype=bool)"
      ]
     },
     "execution_count": 86,
     "metadata": {},
     "output_type": "execute_result"
    }
   ],
   "source": [
    "jnp.all(jnl.eigvals(Kstable)>0)"
   ]
  },
  {
   "cell_type": "markdown",
   "metadata": {},
   "source": [
    "## Build GP object"
   ]
  },
  {
   "cell_type": "code",
   "execution_count": 161,
   "metadata": {},
   "outputs": [],
   "source": [
    "from typing import Callable\n",
    "\n",
    "class GP:\n",
    "    def __init__(self, kernel, meanf=zero, name=None):\n",
    "        self.kernel = kernel\n",
    "        self.mean_func = meanf\n",
    "        self.name = name\n",
    "        \n",
    "\n",
    "class Prior(GP):\n",
    "    def __init__(self, kernel, meanf=zero, name: str = \"Prior\"):\n",
    "        super().__init__(kernel, meanf, name) # Add in a default zero-mean function\n",
    "        \n",
    "    def setup(self):\n",
    "        pass\n",
    "    \n",
    "    def __mul__(self, other):\n",
    "        return Posterior(self, other)\n",
    "    \n",
    "\n",
    "class Posterior(GP):\n",
    "    # TODO: Maybe have a meanf and likelihood \"type\"\n",
    "    def __init__(self, prior: Prior, likelihood, name: str = \"Posterior\"):\n",
    "        super().__init__(prior.kernel, prior.mean_func, name)\n",
    "        self.prior = prior\n",
    "        self.likelihood = likelihood\n",
    "\n",
    "    "
   ]
  },
  {
   "cell_type": "code",
   "execution_count": 162,
   "metadata": {},
   "outputs": [],
   "source": [
    "kernel = rbf(lengthscale=1.0, variance=1.0)\n",
    "gp = Prior(kernel)"
   ]
  },
  {
   "cell_type": "code",
   "execution_count": 163,
   "metadata": {},
   "outputs": [],
   "source": [
    "# @dispatch(Prior, x)\n",
    "def sample(key, gp, x):\n",
    "    mu = gp.mean_func(x)\n",
    "    K = gram(gp.kernel, x)\n",
    "    # TODO: Possible idea return a distribution instead of a set of samples\n",
    "    samples = jr.multivariate_normal(key, jnp.squeeze(mu), k, size=n_samples)"
   ]
  },
  {
   "cell_type": "code",
   "execution_count": 165,
   "metadata": {},
   "outputs": [
    {
     "ename": "NotImplementedError",
     "evalue": "Could not find signature for feature_map: <function>",
     "output_type": "error",
     "traceback": [
      "\u001b[0;31m---------------------------------------------------------------------------\u001b[0m",
      "\u001b[0;31mKeyError\u001b[0m                                  Traceback (most recent call last)",
      "\u001b[0;32m~/Documents/GPBlocks/venv/lib/python3.8/site-packages/multipledispatch-0.6.0-py3.8.egg/multipledispatch/dispatcher.py\u001b[0m in \u001b[0;36m__call__\u001b[0;34m(self, *args, **kwargs)\u001b[0m\n\u001b[1;32m    268\u001b[0m         \u001b[0;32mtry\u001b[0m\u001b[0;34m:\u001b[0m\u001b[0;34m\u001b[0m\u001b[0;34m\u001b[0m\u001b[0m\n\u001b[0;32m--> 269\u001b[0;31m             \u001b[0mfunc\u001b[0m \u001b[0;34m=\u001b[0m \u001b[0mself\u001b[0m\u001b[0;34m.\u001b[0m\u001b[0m_cache\u001b[0m\u001b[0;34m[\u001b[0m\u001b[0mtypes\u001b[0m\u001b[0;34m]\u001b[0m\u001b[0;34m\u001b[0m\u001b[0;34m\u001b[0m\u001b[0m\n\u001b[0m\u001b[1;32m    270\u001b[0m         \u001b[0;32mexcept\u001b[0m \u001b[0mKeyError\u001b[0m\u001b[0;34m:\u001b[0m\u001b[0;34m\u001b[0m\u001b[0;34m\u001b[0m\u001b[0m\n",
      "\u001b[0;31mKeyError\u001b[0m: (<class 'function'>,)",
      "\nDuring handling of the above exception, another exception occurred:\n",
      "\u001b[0;31mNotImplementedError\u001b[0m                       Traceback (most recent call last)",
      "\u001b[0;32m<ipython-input-165-c0d2c3ad4f14>\u001b[0m in \u001b[0;36m<module>\u001b[0;34m\u001b[0m\n\u001b[1;32m      2\u001b[0m \u001b[0mmu\u001b[0m \u001b[0;34m=\u001b[0m \u001b[0mgp\u001b[0m\u001b[0;34m.\u001b[0m\u001b[0mmean_func\u001b[0m\u001b[0;34m(\u001b[0m\u001b[0mx\u001b[0m\u001b[0;34m)\u001b[0m\u001b[0;34m\u001b[0m\u001b[0;34m\u001b[0m\u001b[0m\n\u001b[1;32m      3\u001b[0m \u001b[0mjitter_mat\u001b[0m \u001b[0;34m=\u001b[0m \u001b[0mjitter_matrix\u001b[0m\u001b[0;34m(\u001b[0m\u001b[0mx\u001b[0m\u001b[0;34m.\u001b[0m\u001b[0mshape\u001b[0m\u001b[0;34m[\u001b[0m\u001b[0;36m0\u001b[0m\u001b[0;34m]\u001b[0m\u001b[0;34m,\u001b[0m \u001b[0;36m1e-6\u001b[0m\u001b[0;34m)\u001b[0m\u001b[0;34m\u001b[0m\u001b[0;34m\u001b[0m\u001b[0m\n\u001b[0;32m----> 4\u001b[0;31m \u001b[0mK\u001b[0m \u001b[0;34m=\u001b[0m \u001b[0mgram\u001b[0m\u001b[0;34m(\u001b[0m\u001b[0mgp\u001b[0m\u001b[0;34m.\u001b[0m\u001b[0mkernel\u001b[0m\u001b[0;34m,\u001b[0m \u001b[0mx\u001b[0m\u001b[0;34m,\u001b[0m \u001b[0mx\u001b[0m\u001b[0;34m)\u001b[0m \u001b[0;34m+\u001b[0m \u001b[0mjitter_mat\u001b[0m\u001b[0;34m\u001b[0m\u001b[0;34m\u001b[0m\u001b[0m\n\u001b[0m",
      "\u001b[0;32m<ipython-input-126-050e87c80992>\u001b[0m in \u001b[0;36mgram\u001b[0;34m(kernel, x, y)\u001b[0m\n\u001b[1;32m     10\u001b[0m \u001b[0;34m\u001b[0m\u001b[0m\n\u001b[1;32m     11\u001b[0m \u001b[0;32mdef\u001b[0m \u001b[0mgram\u001b[0m\u001b[0;34m(\u001b[0m\u001b[0mkernel\u001b[0m\u001b[0;34m,\u001b[0m \u001b[0mx\u001b[0m\u001b[0;34m,\u001b[0m \u001b[0my\u001b[0m\u001b[0;34m)\u001b[0m\u001b[0;34m:\u001b[0m\u001b[0;34m\u001b[0m\u001b[0;34m\u001b[0m\u001b[0m\n\u001b[0;32m---> 12\u001b[0;31m     \u001b[0mfmap\u001b[0m \u001b[0;34m=\u001b[0m \u001b[0mfeature_map\u001b[0m\u001b[0;34m(\u001b[0m\u001b[0mkernel\u001b[0m\u001b[0;34m)\u001b[0m\u001b[0;34m\u001b[0m\u001b[0;34m\u001b[0m\u001b[0m\n\u001b[0m\u001b[1;32m     13\u001b[0m     \u001b[0mK\u001b[0m \u001b[0;34m=\u001b[0m \u001b[0mkernel_map\u001b[0m\u001b[0;34m(\u001b[0m\u001b[0mfmap\u001b[0m\u001b[0;34m,\u001b[0m \u001b[0mx\u001b[0m\u001b[0;34m,\u001b[0m \u001b[0my\u001b[0m\u001b[0;34m)\u001b[0m\u001b[0;34m\u001b[0m\u001b[0;34m\u001b[0m\u001b[0m\n\u001b[1;32m     14\u001b[0m     \u001b[0;32mreturn\u001b[0m \u001b[0mK\u001b[0m\u001b[0;34m\u001b[0m\u001b[0;34m\u001b[0m\u001b[0m\n",
      "\u001b[0;32m~/Documents/GPBlocks/venv/lib/python3.8/site-packages/multipledispatch-0.6.0-py3.8.egg/multipledispatch/dispatcher.py\u001b[0m in \u001b[0;36m__call__\u001b[0;34m(self, *args, **kwargs)\u001b[0m\n\u001b[1;32m    271\u001b[0m             \u001b[0mfunc\u001b[0m \u001b[0;34m=\u001b[0m \u001b[0mself\u001b[0m\u001b[0;34m.\u001b[0m\u001b[0mdispatch\u001b[0m\u001b[0;34m(\u001b[0m\u001b[0;34m*\u001b[0m\u001b[0mtypes\u001b[0m\u001b[0;34m)\u001b[0m\u001b[0;34m\u001b[0m\u001b[0;34m\u001b[0m\u001b[0m\n\u001b[1;32m    272\u001b[0m             \u001b[0;32mif\u001b[0m \u001b[0;32mnot\u001b[0m \u001b[0mfunc\u001b[0m\u001b[0;34m:\u001b[0m\u001b[0;34m\u001b[0m\u001b[0;34m\u001b[0m\u001b[0m\n\u001b[0;32m--> 273\u001b[0;31m                 raise NotImplementedError(\n\u001b[0m\u001b[1;32m    274\u001b[0m                     \u001b[0;34m'Could not find signature for %s: <%s>'\u001b[0m \u001b[0;34m%\u001b[0m\u001b[0;34m\u001b[0m\u001b[0;34m\u001b[0m\u001b[0m\n\u001b[1;32m    275\u001b[0m                     (self.name, str_signature(types)))\n",
      "\u001b[0;31mNotImplementedError\u001b[0m: Could not find signature for feature_map: <function>"
     ]
    }
   ],
   "source": [
    "x = jnp.linspace(-3., 3., 200)\n",
    "mu = gp.mean_func(x)\n",
    "jitter_mat = jitter_matrix(x.shape[0], 1e-6)\n",
    "K = gram(gp.kernel, x, x) + jitter_mat"
   ]
  },
  {
   "cell_type": "code",
   "execution_count": 102,
   "metadata": {},
   "outputs": [],
   "source": [
    "from flax import struct \n",
    "\n",
    "@struct.dataclass\n",
    "class GaussianProcess:\n",
    "    index_points: jnp.ndarray\n",
    "    mean_function: Callable = struct.field(pytree_node=False)\n",
    "    kernel_function: Callable = struct.field(pytree_node=False)\n",
    "    jitter: float"
   ]
  },
  {
   "cell_type": "code",
   "execution_count": 104,
   "metadata": {},
   "outputs": [],
   "source": [
    "p = GaussianProcess(x, zero, kernel, 1e-6)"
   ]
  },
  {
   "cell_type": "markdown",
   "metadata": {},
   "source": [
    "# Flax Approach"
   ]
  },
  {
   "cell_type": "code",
   "execution_count": 166,
   "metadata": {},
   "outputs": [],
   "source": [
    "import jax\n",
    "import jax.numpy as jnp\n",
    "import jax.scipy as jsp\n",
    "import jax.random as jr\n",
    "import jax.numpy.linalg as jnl\n",
    "import matplotlib.pyplot as plt\n",
    "from jax import grad, vmap\n",
    "from jax.config import config\n",
    "from multipledispatch import dispatch\n",
    "from flax import linen as nn, struct\n",
    "from multipledispatch import dispatch\n",
    "\n",
    "key = jsr.PRNGKey(123)"
   ]
  },
  {
   "cell_type": "code",
   "execution_count": 185,
   "metadata": {},
   "outputs": [],
   "source": [
    "@struct.dataclass\n",
    "class Kernel:\n",
    "    pass\n",
    "\n",
    "@struct.dataclass\n",
    "class SquaredExponential(Kernel):\n",
    "    lengthscale: float = struct.field(pytree_node=True)\n",
    "    variance: float = struct.field(pytree_node=True)\n",
    "\n",
    "@struct.dataclass\n",
    "class MeanFunction:\n",
    "    pass\n",
    "        \n",
    "@struct.dataclass\n",
    "class ZeroMean:\n",
    "    pass\n",
    "        \n",
    "@struct.dataclass\n",
    "class Prior:\n",
    "    mean_function: Callable = struct.field(pytree_node=False)\n",
    "    kernel_function: Callable = struct.field(pytree_node=False)\n",
    "    jitter: float"
   ]
  },
  {
   "cell_type": "code",
   "execution_count": 186,
   "metadata": {},
   "outputs": [
    {
     "data": {
      "text/plain": [
       "SquaredExponential(lengthscale=1.0, variance=1.0)"
      ]
     },
     "execution_count": 186,
     "metadata": {},
     "output_type": "execute_result"
    }
   ],
   "source": [
    "def squared_exponential(lengthscale, variance):\n",
    "    return SquaredExponential(lengthscale, variance)\n",
    "\n",
    "squared_exponential(1.0, 1.0)"
   ]
  },
  {
   "cell_type": "markdown",
   "metadata": {},
   "source": [
    "## Mean functions"
   ]
  },
  {
   "cell_type": "code",
   "execution_count": 187,
   "metadata": {},
   "outputs": [],
   "source": [
    "m = ZeroMean()\n",
    "\n",
    "@dispatch(ZeroMean)\n",
    "def mean_function(M: ZeroMean):\n",
    "    return jnp.zeros_like"
   ]
  },
  {
   "cell_type": "markdown",
   "metadata": {},
   "source": [
    "## Kernel methods"
   ]
  },
  {
   "cell_type": "code",
   "execution_count": 188,
   "metadata": {},
   "outputs": [],
   "source": [
    "def kernel_map(func, x, y):\n",
    "    return jax.vmap(lambda x1: jax.vmap(lambda y1: func(x1, y1))(y))(x)\n",
    "\n",
    "@dispatch(SquaredExponential)\n",
    "def feature_map(kernel: SquaredExponential):\n",
    "    def fmap(x, y):\n",
    "        tau = jnp.square(x-y)\n",
    "        return jnp.square(kernel.variance) * jnp.exp(-tau/(2*jnp.square(kernel.lengthscale)))\n",
    "    return fmap\n",
    "\n",
    "def gram(kernel, x, y):\n",
    "    fmap = feature_map(kernel)\n",
    "    K = kernel_map(fmap, x, y)\n",
    "    return K\n"
   ]
  },
  {
   "cell_type": "code",
   "execution_count": 189,
   "metadata": {},
   "outputs": [],
   "source": [
    "mfunc = mean_function(k)"
   ]
  },
  {
   "cell_type": "code",
   "execution_count": 190,
   "metadata": {},
   "outputs": [
    {
     "data": {
      "text/plain": [
       "DeviceArray([0., 0., 0., 0., 0., 0., 0., 0., 0., 0., 0., 0., 0., 0., 0.,\n",
       "             0., 0., 0., 0., 0., 0., 0., 0., 0., 0., 0., 0., 0., 0., 0.,\n",
       "             0., 0., 0., 0., 0., 0., 0., 0., 0., 0., 0., 0., 0., 0., 0.,\n",
       "             0., 0., 0., 0., 0.], dtype=float32)"
      ]
     },
     "execution_count": 190,
     "metadata": {},
     "output_type": "execute_result"
    }
   ],
   "source": [
    "mfunc(x)"
   ]
  },
  {
   "cell_type": "code",
   "execution_count": 191,
   "metadata": {},
   "outputs": [],
   "source": [
    "kernel = SquaredExponential(1.0, 1.0)\n",
    "x = jnp.linspace(-1., 1., 50)\n",
    "K = gram(kernel, x, x)"
   ]
  },
  {
   "cell_type": "code",
   "execution_count": 192,
   "metadata": {},
   "outputs": [
    {
     "data": {
      "text/plain": [
       "<matplotlib.image.AxesImage at 0x7f45bcf49b80>"
      ]
     },
     "execution_count": 192,
     "metadata": {},
     "output_type": "execute_result"
    },
    {
     "data": {
      "image/png": "[encoded data removed]",
      "text/plain": [
       "<Figure size 288x288 with 1 Axes>"
      ]
     },
     "metadata": {
      "needs_background": "light"
     },
     "output_type": "display_data"
    }
   ],
   "source": [
    "plt.matshow(K)"
   ]
  },
  {
   "cell_type": "code",
   "execution_count": 225,
   "metadata": {},
   "outputs": [],
   "source": [
    "@struct.dataclass\n",
    "class Likelihood:\n",
    "    pass\n",
    "\n",
    "\n",
    "@struct.dataclass\n",
    "class Gaussian:\n",
    "    noise: float\n",
    "        \n",
    "\n",
    "class Prior(nn.Module):\n",
    "    kernel: Kernel\n",
    "    mean_function: MeanFunction\n",
    "    \n",
    "    @nn.compact\n",
    "    def __call__(self, inputs):\n",
    "        pass # TODO: Add in the predictive mean of the GP. Maybe the MLL might be required\n",
    "    \n",
    "    def __mul__(self, other: Likelihood):\n",
    "        return Posterior(self, other)\n",
    "    \n",
    "\n",
    "class Posterior(nn.Module):\n",
    "    prior: Prior\n",
    "    likelihood: Likelihood\n",
    "    \n",
    "    @nn.compact\n",
    "    def __call__(self, inputs):\n",
    "        pass"
   ]
  },
  {
   "cell_type": "code",
   "execution_count": 226,
   "metadata": {},
   "outputs": [],
   "source": [
    "f_prior = Prior(kernel, mfunc)\n",
    "likelihood = Gaussian(1.0)"
   ]
  },
  {
   "cell_type": "code",
   "execution_count": 227,
   "metadata": {},
   "outputs": [],
   "source": [
    "f_post = Posterior(f_prior, likelihood)"
   ]
  },
  {
   "cell_type": "code",
   "execution_count": 228,
   "metadata": {},
   "outputs": [
    {
     "ename": "ValueError",
     "evalue": "Can't call methods on orphaned modules",
     "output_type": "error",
     "traceback": [
      "\u001b[0;31m---------------------------------------------------------------------------\u001b[0m",
      "\u001b[0;31mValueError\u001b[0m                                Traceback (most recent call last)",
      "\u001b[0;32m<ipython-input-228-60a90c04c9f0>\u001b[0m in \u001b[0;36m<module>\u001b[0;34m\u001b[0m\n\u001b[0;32m----> 1\u001b[0;31m \u001b[0mf_post\u001b[0m \u001b[0;34m=\u001b[0m \u001b[0mf_prior\u001b[0m\u001b[0;34m*\u001b[0m\u001b[0mlikelihood\u001b[0m\u001b[0;34m\u001b[0m\u001b[0;34m\u001b[0m\u001b[0m\n\u001b[0m",
      "\u001b[0;32m~/Documents/GPBlocks/venv/lib/python3.8/site-packages/flax/linen/module.py\u001b[0m in \u001b[0;36mwrapped_module_method\u001b[0;34m(self, *args, **kwargs)\u001b[0m\n\u001b[1;32m    146\u001b[0m \u001b[0;34m\u001b[0m\u001b[0m\n\u001b[1;32m    147\u001b[0m     \u001b[0;32mif\u001b[0m \u001b[0mself\u001b[0m\u001b[0;34m.\u001b[0m\u001b[0mscope\u001b[0m \u001b[0;32mis\u001b[0m \u001b[0;32mNone\u001b[0m\u001b[0;34m:\u001b[0m\u001b[0;34m\u001b[0m\u001b[0;34m\u001b[0m\u001b[0m\n\u001b[0;32m--> 148\u001b[0;31m       \u001b[0;32mraise\u001b[0m \u001b[0mValueError\u001b[0m\u001b[0;34m(\u001b[0m\u001b[0;34m\"Can't call methods on orphaned modules\"\u001b[0m\u001b[0;34m)\u001b[0m\u001b[0;34m\u001b[0m\u001b[0;34m\u001b[0m\u001b[0m\n\u001b[0m\u001b[1;32m    149\u001b[0m \u001b[0;34m\u001b[0m\u001b[0m\n\u001b[1;32m    150\u001b[0m     \u001b[0;32mif\u001b[0m \u001b[0mis_compact_method\u001b[0m\u001b[0;34m:\u001b[0m\u001b[0;34m\u001b[0m\u001b[0;34m\u001b[0m\u001b[0m\n",
      "\u001b[0;31mValueError\u001b[0m: Can't call methods on orphaned modules"
     ]
    }
   ],
   "source": [
    "f_post = f_prior*likelihood"
   ]
  }
 ],
 "metadata": {
  "kernelspec": {
   "display_name": "GPBlocks",
   "language": "python",
   "name": "gpblocks"
  },
  "language_info": {
   "codemirror_mode": {
    "name": "ipython",
    "version": 3
   },
   "file_extension": ".py",
   "mimetype": "text/x-python",
   "name": "python",
   "nbconvert_exporter": "python",
   "pygments_lexer": "ipython3",
   "version": "3.8.5"
  }
 },
 "nbformat": 4,
 "nbformat_minor": 4
}
