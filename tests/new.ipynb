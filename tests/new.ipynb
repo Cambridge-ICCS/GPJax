{
 "cells": [
  {
   "cell_type": "code",
   "execution_count": null,
   "metadata": {},
   "outputs": [],
   "source": [
    "import jax.numpy as jnp\n",
    "import jax.random as jr\n",
    "import pytest\n",
    "from gpjax.covariance_operator import (\n",
    "    CovarianceOperator,\n",
    "    DenseCovarianceOperator,\n",
    "    DiagonalCovarianceOperator,\n",
    "    I,\n",
    ")\n",
    "\n",
    "from gpjax.kernels import (\n",
    "    RBF, \n",
    "    Matern12,\n",
    "    Matern32,\n",
    "    Matern52,\n",
    ")\n",
    "\n",
    "\n",
    "def test_covariance_operator():\n",
    "    with pytest.raises(TypeError):\n",
    "        CovarianceOperator()\n",
    "\n",
    "\n",
    "@pytest.mark.parametrize(\"kernel\", [RBF, Matern12, Matern32, Matern52])\n",
    "@pytest.mark.parametrize(\"n\", [1, 10, 100])\n",
    "def test_dense_covariance_operator(kernel, n):\n",
    "\n",
    "    key = jr.PRNGKey(seed=42)\n",
    "    A = jr.normal(key, (n, n))\n",
    "    dense = A.T @ A # Dense random matrix is positive definite.\n",
    "\n",
    "    cov = DenseCovarianceOperator(matrix = dense)\n",
    "\n",
    "    # Test shape:\n",
    "    assert cov.shape == (n, n)\n",
    "    \n",
    "    # Test solve:\n",
    "    # b = jr.normal(key, (n, 1))\n",
    "    # x = cov.solve(b)\n",
    "    # assert jnp.allclose(b, dense @ x)\n",
    "\n",
    "    # Test to_dense method:\n",
    "    assert jnp.allclose(dense, cov.to_dense())\n",
    "\n",
    "    # Test to_diag method:\n",
    "    assert jnp.allclose(jnp.diag(dense), cov.diagonal())\n",
    "\n",
    "\n",
    "    # Test log determinant:\n",
    "    assert jnp.allclose(jnp.linalg.slogdet(dense)[1], cov.log_det())\n",
    "\n",
    "    # Test trace:\n",
    "    assert jnp.allclose(jnp.trace(dense), cov.trace())\n",
    "\n",
    "    # Test lower triangular:\n",
    "    assert jnp.allclose(jnp.linalg.cholesky(dense), cov.triangular_lower())\n",
    "\n",
    "    # Test adding diagonal covariance operator to dense linear operator:\n",
    "    diag = DiagonalCovarianceOperator(jnp.diag(dense))\n",
    "    cov = cov +  (diag * jnp.pi)\n",
    "    assert jnp.allclose(dense + jnp.pi * jnp.diag(jnp.diag(dense)), cov.to_dense())"
   ]
  },
  {
   "cell_type": "code",
   "execution_count": null,
   "metadata": {},
   "outputs": [],
   "source": [
    "n = 3\n",
    "\n",
    "key = jr.PRNGKey(seed=42)\n",
    "A = jr.normal(key, (n, n))\n",
    "dense = A.T @ A # Dense random matrix is positive definite.\n",
    "\n",
    "cov = DenseCovarianceOperator(matrix = dense)"
   ]
  },
  {
   "cell_type": "code",
   "execution_count": null,
   "metadata": {},
   "outputs": [],
   "source": [
    "jnp.linalg.cholesky(dense)"
   ]
  },
  {
   "cell_type": "code",
   "execution_count": null,
   "metadata": {},
   "outputs": [],
   "source": [
    "cov.triangular_lower()"
   ]
  }
 ],
 "metadata": {
  "kernelspec": {
   "display_name": "base",
   "language": "python",
   "name": "python3"
  },
  "language_info": {
   "codemirror_mode": {
    "name": "ipython",
    "version": 3
   },
   "file_extension": ".py",
   "mimetype": "text/x-python",
   "name": "python",
   "nbconvert_exporter": "python",
   "pygments_lexer": "ipython3",
   "version": "3.10.0"
  },
  "vscode": {
   "interpreter": {
    "hash": "3d597f4c481aa0f25dceb95d2a0067e73c0966dcbd003d741d821a7208527ecf"
   }
  }
 },
 "nbformat": 4,
 "nbformat_minor": 2
}
